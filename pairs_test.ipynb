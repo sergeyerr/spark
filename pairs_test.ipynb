{
 "cells": [
  {
   "cell_type": "code",
   "execution_count": 1,
   "metadata": {},
   "outputs": [],
   "source": [
    "import findspark\n",
    "findspark.init()\n",
    "import pyspark\n",
    "import random\n",
    "sc = pyspark.SparkContext(appName=\"test\")"
   ]
  },
  {
   "cell_type": "code",
   "execution_count": 8,
   "metadata": {},
   "outputs": [],
   "source": [
    "some_words = sc.parallelize(['fst', 'snd', 'thrd', 'others', 'fifa'])\n",
    "keys = some_words.map(lambda x: (x[0], x))"
   ]
  },
  {
   "cell_type": "code",
   "execution_count": 7,
   "metadata": {},
   "outputs": [
    {
     "data": {
      "text/plain": [
       "[('t', 'thrd'), ('s', 'snd')]"
      ]
     },
     "execution_count": 7,
     "metadata": {},
     "output_type": "execute_result"
    }
   ],
   "source": [
    "keys.top(2)"
   ]
  },
  {
   "cell_type": "code",
   "execution_count": 12,
   "metadata": {},
   "outputs": [
    {
     "data": {
      "text/plain": [
       "[('s', 'snd'), ('f', 'fstfifa'), ('t', 'thrd'), ('o', 'others')]"
      ]
     },
     "execution_count": 12,
     "metadata": {},
     "output_type": "execute_result"
    }
   ],
   "source": [
    "keys.reduceByKey(lambda x, y: x + y).collect()"
   ]
  },
  {
   "cell_type": "code",
   "execution_count": 15,
   "metadata": {},
   "outputs": [
    {
     "data": {
      "text/plain": [
       "[('s', <pyspark.resultiterable.ResultIterable at 0x6c86750>),\n",
       " ('f', <pyspark.resultiterable.ResultIterable at 0x6c86770>),\n",
       " ('t', <pyspark.resultiterable.ResultIterable at 0x6c86730>),\n",
       " ('o', <pyspark.resultiterable.ResultIterable at 0x6c86810>)]"
      ]
     },
     "execution_count": 15,
     "metadata": {},
     "output_type": "execute_result"
    }
   ],
   "source": [
    "keys.groupByKey().collect()"
   ]
  },
  {
   "cell_type": "code",
   "execution_count": 18,
   "metadata": {},
   "outputs": [
    {
     "data": {
      "text/plain": [
       "defaultdict(int,\n",
       "            {('f', 'fst'): 1,\n",
       "             ('f', 'fifa'): 1,\n",
       "             ('o', 'others'): 1,\n",
       "             ('s', 'snd'): 1,\n",
       "             ('t', 'thrd'): 1})"
      ]
     },
     "execution_count": 18,
     "metadata": {},
     "output_type": "execute_result"
    }
   ],
   "source": [
    "keys.sortByKey().countByValue()\n"
   ]
  },
  {
   "cell_type": "code",
   "execution_count": 4,
   "metadata": {},
   "outputs": [],
   "source": [
    "fst = sc.parallelize([(1,2), (1,3), (2,3), (4,10)])\n",
    "snd = sc.parallelize([(1,4), (1,5), (2,5), (6, 11)])"
   ]
  },
  {
   "cell_type": "code",
   "execution_count": 5,
   "metadata": {},
   "outputs": [
    {
     "data": {
      "text/plain": [
       "[(1, (2, 4)),\n",
       " (1, (2, 5)),\n",
       " (1, (3, 4)),\n",
       " (1, (3, 5)),\n",
       " (2, (3, 5)),\n",
       " (6, (None, 11))]"
      ]
     },
     "execution_count": 5,
     "metadata": {},
     "output_type": "execute_result"
    }
   ],
   "source": [
    "fst.rightOuterJoin(snd).collect()"
   ]
  },
  {
   "cell_type": "code",
   "execution_count": 8,
   "metadata": {},
   "outputs": [
    {
     "data": {
      "text/plain": [
       "{1: (<pyspark.resultiterable.ResultIterable at 0x682c590>,\n",
       "  <pyspark.resultiterable.ResultIterable at 0x682c670>),\n",
       " 2: (<pyspark.resultiterable.ResultIterable at 0x682c910>,\n",
       "  <pyspark.resultiterable.ResultIterable at 0x682c090>),\n",
       " 4: (<pyspark.resultiterable.ResultIterable at 0x682cc30>,\n",
       "  <pyspark.resultiterable.ResultIterable at 0x682cb50>),\n",
       " 6: (<pyspark.resultiterable.ResultIterable at 0x682cd90>,\n",
       "  <pyspark.resultiterable.ResultIterable at 0x682ccd0>)}"
      ]
     },
     "execution_count": 8,
     "metadata": {},
     "output_type": "execute_result"
    }
   ],
   "source": [
    "fst.cogroup(snd).collectAsMap()"
   ]
  },
  {
   "cell_type": "code",
   "execution_count": 9,
   "metadata": {},
   "outputs": [
    {
     "data": {
      "text/plain": [
       "{1: (<pyspark.resultiterable.ResultIterable at 0x6822ed0>,\n",
       "  <pyspark.resultiterable.ResultIterable at 0x6822210>),\n",
       " 2: (<pyspark.resultiterable.ResultIterable at 0x6822f10>,\n",
       "  <pyspark.resultiterable.ResultIterable at 0x6822ad0>),\n",
       " 4: (<pyspark.resultiterable.ResultIterable at 0x6822f90>,\n",
       "  <pyspark.resultiterable.ResultIterable at 0x6822df0>),\n",
       " 6: (<pyspark.resultiterable.ResultIterable at 0x6822a70>,\n",
       "  <pyspark.resultiterable.ResultIterable at 0x6822930>)}"
      ]
     },
     "execution_count": 9,
     "metadata": {},
     "output_type": "execute_result"
    }
   ],
   "source": [
    "fst.cogroup(snd, 10).collectAsMap()"
   ]
  },
  {
   "cell_type": "code",
   "execution_count": 15,
   "metadata": {},
   "outputs": [
    {
     "data": {
      "text/plain": [
       "4"
      ]
     },
     "execution_count": 15,
     "metadata": {},
     "output_type": "execute_result"
    }
   ],
   "source": [
    "test = fst.repartition(15)"
   ]
  },
  {
   "cell_type": "code",
   "execution_count": 13,
   "metadata": {},
   "outputs": [
    {
     "data": {
      "text/plain": [
       "MapPartitionsRDD[55] at coalesce at <unknown>:0"
      ]
     },
     "execution_count": 13,
     "metadata": {},
     "output_type": "execute_result"
    }
   ],
   "source": [
    "test"
   ]
  },
  {
   "cell_type": "code",
   "execution_count": 18,
   "metadata": {},
   "outputs": [
    {
     "data": {
      "text/plain": [
       "[[],\n",
       " [(1, 2)],\n",
       " [(4, 10)],\n",
       " [],\n",
       " [],\n",
       " [],\n",
       " [],\n",
       " [(2, 3)],\n",
       " [(1, 3)],\n",
       " [],\n",
       " [],\n",
       " [],\n",
       " [],\n",
       " [],\n",
       " []]"
      ]
     },
     "execution_count": 18,
     "metadata": {},
     "output_type": "execute_result"
    }
   ],
   "source": [
    "test.glom().collect()"
   ]
  },
  {
   "cell_type": "code",
   "execution_count": null,
   "metadata": {},
   "outputs": [],
   "source": []
  }
 ],
 "metadata": {
  "kernelspec": {
   "display_name": "Python 3",
   "language": "python",
   "name": "python3"
  },
  "language_info": {
   "codemirror_mode": {
    "name": "ipython",
    "version": 3
   },
   "file_extension": ".py",
   "mimetype": "text/x-python",
   "name": "python",
   "nbconvert_exporter": "python",
   "pygments_lexer": "ipython3",
   "version": "3.7.3"
  }
 },
 "nbformat": 4,
 "nbformat_minor": 2
}
